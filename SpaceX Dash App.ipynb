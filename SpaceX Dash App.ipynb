{
    "cells": [
        {
            "metadata": {},
            "cell_type": "markdown",
            "source": ""
        },
        {
            "metadata": {
                "scrolled": true
            },
            "cell_type": "code",
            "source": "!pip3 install pandas dash",
            "execution_count": 1,
            "outputs": [
                {
                    "output_type": "stream",
                    "text": "Requirement already satisfied: pandas in /opt/conda/envs/Python-3.8-main/lib/python3.8/site-packages (1.2.4)\nCollecting dash\n  Downloading dash-2.0.0-py3-none-any.whl (7.3 MB)\n\u001b[K     |\u2588\u2588\u2588\u2588\u2588\u2588\u2588\u2588\u2588\u2588\u2588\u2588\u2588\u2588\u2588\u2588\u2588\u2588\u2588\u2588\u2588\u2588\u2588\u2588\u2588\u2588\u2588\u2588\u2588\u2588\u2588\u2588| 7.3 MB 7.4 MB/s eta 0:00:01\n\u001b[?25hRequirement already satisfied: python-dateutil>=2.7.3 in /opt/conda/envs/Python-3.8-main/lib/python3.8/site-packages (from pandas) (2.8.1)\nRequirement already satisfied: pytz>=2017.3 in /opt/conda/envs/Python-3.8-main/lib/python3.8/site-packages (from pandas) (2021.1)\nRequirement already satisfied: numpy>=1.16.5 in /opt/conda/envs/Python-3.8-main/lib/python3.8/site-packages (from pandas) (1.19.2)\nRequirement already satisfied: six>=1.5 in /opt/conda/envs/Python-3.8-main/lib/python3.8/site-packages (from python-dateutil>=2.7.3->pandas) (1.15.0)\nCollecting dash-table==5.0.0\n  Downloading dash_table-5.0.0.tar.gz (3.4 kB)\nCollecting dash-html-components==2.0.0\n  Downloading dash_html_components-2.0.0.tar.gz (3.8 kB)\nCollecting Flask>=1.0.4\n  Downloading Flask-2.0.2-py3-none-any.whl (95 kB)\n\u001b[K     |\u2588\u2588\u2588\u2588\u2588\u2588\u2588\u2588\u2588\u2588\u2588\u2588\u2588\u2588\u2588\u2588\u2588\u2588\u2588\u2588\u2588\u2588\u2588\u2588\u2588\u2588\u2588\u2588\u2588\u2588\u2588\u2588| 95 kB 7.3 MB/s  eta 0:00:01\n\u001b[?25hCollecting plotly>=5.0.0\n  Downloading plotly-5.5.0-py2.py3-none-any.whl (26.5 MB)\n\u001b[K     |\u2588\u2588\u2588\u2588\u2588\u2588\u2588\u2588\u2588\u2588\u2588\u2588\u2588\u2588\u2588\u2588\u2588\u2588\u2588\u2588\u2588\u2588\u2588\u2588\u2588\u2588\u2588\u2588\u2588\u2588\u2588\u2588| 26.5 MB 21.4 MB/s eta 0:00:01 MB 21.4 MB/s eta 0:00:01\n\u001b[?25hCollecting flask-compress\n  Downloading Flask_Compress-1.10.1-py3-none-any.whl (7.9 kB)\nCollecting dash-core-components==2.0.0\n  Downloading dash_core_components-2.0.0.tar.gz (3.4 kB)\nRequirement already satisfied: click>=7.1.2 in /opt/conda/envs/Python-3.8-main/lib/python3.8/site-packages (from Flask>=1.0.4->dash) (7.1.2)\nRequirement already satisfied: Werkzeug>=2.0 in /opt/conda/envs/Python-3.8-main/lib/python3.8/site-packages (from Flask>=1.0.4->dash) (2.0.1)\nRequirement already satisfied: Jinja2>=3.0 in /opt/conda/envs/Python-3.8-main/lib/python3.8/site-packages (from Flask>=1.0.4->dash) (3.0.0)\nCollecting itsdangerous>=2.0\n  Downloading itsdangerous-2.0.1-py3-none-any.whl (18 kB)\nRequirement already satisfied: MarkupSafe>=2.0.0rc2 in /opt/conda/envs/Python-3.8-main/lib/python3.8/site-packages (from Jinja2>=3.0->Flask>=1.0.4->dash) (2.0.1)\nCollecting tenacity>=6.2.0\n  Downloading tenacity-8.0.1-py3-none-any.whl (24 kB)\nCollecting brotli\n  Downloading Brotli-1.0.9-cp38-cp38-manylinux1_x86_64.whl (357 kB)\n\u001b[K     |\u2588\u2588\u2588\u2588\u2588\u2588\u2588\u2588\u2588\u2588\u2588\u2588\u2588\u2588\u2588\u2588\u2588\u2588\u2588\u2588\u2588\u2588\u2588\u2588\u2588\u2588\u2588\u2588\u2588\u2588\u2588\u2588| 357 kB 88.5 MB/s eta 0:00:01\n\u001b[?25hBuilding wheels for collected packages: dash-core-components, dash-html-components, dash-table\n  Building wheel for dash-core-components (setup.py) ... \u001b[?25ldone\n\u001b[?25h  Created wheel for dash-core-components: filename=dash_core_components-2.0.0-py3-none-any.whl size=3804 sha256=9bc1ec82ca5824dc9ce97dbfd2f7de6efd920d84003a680157e06832e53e9397\n  Stored in directory: /tmp/wsuser/.cache/pip/wheels/52/e4/f3/16724791571a955a46d54650510c98c04ab7d339626aee27cc\n  Building wheel for dash-html-components (setup.py) ... \u001b[?25ldone\n\u001b[?25h  Created wheel for dash-html-components: filename=dash_html_components-2.0.0-py3-none-any.whl size=4069 sha256=acc7a96a8a2550d2941bbb479191a424ef8ef2f0967e282d61d3b304ccd61d0d\n  Stored in directory: /tmp/wsuser/.cache/pip/wheels/73/d8/8d/92f612c03c895f19bcc56a6c54be7bb41aaa698012a5624f60\n  Building wheel for dash-table (setup.py) ... \u001b[?25ldone\n\u001b[?25h  Created wheel for dash-table: filename=dash_table-5.0.0-py3-none-any.whl size=3897 sha256=65e7763aedf61adf2041bdaf1a722912290e8ee6cec9812f51e7fe25231a7b92\n  Stored in directory: /tmp/wsuser/.cache/pip/wheels/a6/fb/f5/4adf241f384634f52028f15eab6a325e77b8766a0a00816bbf\nSuccessfully built dash-core-components dash-html-components dash-table\nInstalling collected packages: itsdangerous, tenacity, Flask, brotli, plotly, flask-compress, dash-table, dash-html-components, dash-core-components, dash\n  Attempting uninstall: plotly\n    Found existing installation: plotly 4.14.3\n    Uninstalling plotly-4.14.3:\n      Successfully uninstalled plotly-4.14.3\nSuccessfully installed Flask-2.0.2 brotli-1.0.9 dash-2.0.0 dash-core-components-2.0.0 dash-html-components-2.0.0 dash-table-5.0.0 flask-compress-1.10.1 itsdangerous-2.0.1 plotly-5.5.0 tenacity-8.0.1\n",
                    "name": "stdout"
                }
            ]
        },
        {
            "metadata": {},
            "cell_type": "markdown",
            "source": "Run the following wget command line in the terminal to download dataset as spacex_launch_dash.csv"
        },
        {
            "metadata": {
                "scrolled": true
            },
            "cell_type": "code",
            "source": "!wget \"https://cf-courses-data.s3.us.cloud-object-storage.appdomain.cloud/IBM-DS0321EN-SkillsNetwork/datasets/spacex_launch_dash.csv\"",
            "execution_count": 3,
            "outputs": [
                {
                    "output_type": "stream",
                    "text": "--2022-01-26 21:48:33--  https://cf-courses-data.s3.us.cloud-object-storage.appdomain.cloud/IBM-DS0321EN-SkillsNetwork/datasets/spacex_launch_dash.csv\nResolving cf-courses-data.s3.us.cloud-object-storage.appdomain.cloud (cf-courses-data.s3.us.cloud-object-storage.appdomain.cloud)... 169.63.118.104\nConnecting to cf-courses-data.s3.us.cloud-object-storage.appdomain.cloud (cf-courses-data.s3.us.cloud-object-storage.appdomain.cloud)|169.63.118.104|:443... connected.\nHTTP request sent, awaiting response... 200 OK\nLength: 3033 (3.0K) [text/csv]\nSaving to: \u2018spacex_launch_dash.csv\u2019\n\nspacex_launch_dash. 100%[===================>]   2.96K  --.-KB/s    in 0s      \n\n2022-01-26 21:48:34 (25.1 MB/s) - \u2018spacex_launch_dash.csv\u2019 saved [3033/3033]\n\n",
                    "name": "stdout"
                }
            ]
        },
        {
            "metadata": {},
            "cell_type": "markdown",
            "source": "The following code is used to create the Dashboard."
        },
        {
            "metadata": {},
            "cell_type": "code",
            "source": "import pandas as pd\nimport dash\nimport dash_html_components as html\nimport dash_core_components as dcc\nfrom dash.dependencies import Input, Output\nimport plotly.express as px\n\n# Read the airline data into pandas dataframe\nspacex_df = pd.read_csv(\"spacex_launch_dash.csv\")\nmax_payload = spacex_df['Payload Mass (kg)'].max()\nmin_payload = spacex_df['Payload Mass (kg)'].min()\n\n# Create a dash application\napp = dash.Dash(__name__)\n\n# Create an app layout\napp.layout = html.Div(children=[\n    html.H1('SpaceX Launch Records Dashboard',\n            style={'textAlign': 'center', 'color': '#503D36',\n                   'font-size': 40}),   \n    # TASK 1: Add a dropdown list to enable Launch Site selection\n    # The default select value is for ALL sites\n    dcc.Dropdown(id='site-dropdown',\n                 options=[{'label': 'All Sites', 'value': 'ALL'},\n                          {'label': 'CCAFS LC-40', 'value': 'CCAFS LC-40'}, \n                          {'label': 'CCAFS SLC-40', 'value': 'CCAFS SLC-40'},\n                          {'label': 'KSC LC-39A', 'value': 'KSC LC-39A'},\n                          {'label': 'VAFB SLC-4E', 'value':  'VAFB SLC-4E'},\n                         ],\n                         value='ALL', \n                         placeholder='Select a Launch Site here', \n                         searchable=True\n                ),\n    html.Br(),\n\n    # TASK 2: Add a pie chart to show the total successful launches count for all sites\n    # If a specific launch site was selected, show the Success vs. Failed counts for the site\n    html.Div(dcc.Graph(id='success-pie-chart')),\n    html.Br(),\n\n    html.P(\"Payload range (Kg):\"),\n    # TASK 3: Add a slider to select payload range\n    dcc.RangeSlider(id='payload-slider', \n                    min=0, max=10000, step=1000,\n                    value=[min_payload, max_payload]\n                    ),\n    # TASK 4: Add a scatter chart to show the correlation between payload and launch success\n    html.Div(dcc.Graph(id='success-payload-scatter-chart')),\n    ])\n\n# TASK 2:\n# Add a callback function for `site-dropdown` as input, `success-pie-chart` as output\n@app.callback(Output(component_id='success-pie-chart', component_property='figure'),\n              Input(component_id='site-dropdown', component_property='value')\n             )\ndef get_pie_chart(entered_site):\n    if entered_site == 'ALL':\n        pie_fig = px.pie(spacex_df, values='class', \n        names='Launch Site', \n        title='Successful launches')\n    else:\n        fil = spacex_df['Launch Site'] == entered_site\n        print('HERE1', entered_site)\n        print('HERE2:', fil)\n        fil2 = spacex_df[['Launch Site', 'class']]\n        fil3 = fil2[fil]\n        fil3 = fil3['class'].value_counts()\n        print(\"FHERE:\", fil3)\n        sub_fil = []\n        sub_fil.clear()\n        for f in fil3:\n            print('AHERE:', f)\n            sub_fil.append(f)\n        print('SUB_FIL:', sub_fil)\n        if entered_site == 'KSC LC-39A':\n            cl = [1, 0]\n        else:\n            cl = [0, 1]\n        dat = {'Launch Site': [entered_site, entered_site], \n               'class': cl, 'count': sub_fil}\n        filtered_df = pd.DataFrame(dat)\n        print('HERE3:', filtered_df)\n\n        pie_fig = px.pie(filtered_df, values='count', \n        names='class', \n        title=entered_site)\n\n    return pie_fig\n        # return the outcomes piechart for a selected site\n# TASK 4:\n# Add a callback function for `site-dropdown` and `payload-slider` as inputs, `success-payload-scatter-chart` as output\n@app.callback(Output(component_id='success-payload-scatter-chart', component_property='figure'),\n              [Input(component_id='site-dropdown', component_property='value'),\n               Input(component_id=\"payload-slider\", component_property=\"value\")])\ndef get_scatter_chart(entered_site, slider_range):\n    fil = spacex_df['Launch Site'] == entered_site\n    filtered_df = spacex_df[fil]\n    low, high = slider_range\n    mask = (spacex_df['Payload Mass (kg)'] > float(low)) & (spacex_df['Payload Mass (kg)'] < float(high))\n    if entered_site == 'ALL':\n        scatter_fig = px.scatter(spacex_df[mask], x='Payload Mass (kg)', y='class',\n                                 color='Booster Version Category')\n    else:\n        scatter_fig = px.scatter(filtered_df[mask], x='Payload Mass (kg)', y='class',\n                                 color='Booster Version Category')\n    \n    return scatter_fig\n\n# Run the app\nif __name__ == '__main__':\n    app.run_server()",
            "execution_count": null,
            "outputs": [
                {
                    "output_type": "stream",
                    "text": "Dash is running on http://127.0.0.1:8050/\n\n * Serving Flask app '__main__' (lazy loading)\n * Environment: production\n\u001b[31m   WARNING: This is a development server. Do not use it in a production deployment.\u001b[0m\n\u001b[2m   Use a production WSGI server instead.\u001b[0m\n * Debug mode: off\n",
                    "name": "stdout"
                },
                {
                    "output_type": "stream",
                    "text": " * Running on http://127.0.0.1:8050/ (Press CTRL+C to quit)\n",
                    "name": "stderr"
                }
            ]
        },
        {
            "metadata": {},
            "cell_type": "code",
            "source": "",
            "execution_count": null,
            "outputs": []
        }
    ],
    "metadata": {
        "kernelspec": {
            "name": "python3",
            "display_name": "Python 3.8",
            "language": "python"
        },
        "language_info": {
            "name": "python",
            "version": "3.8.12",
            "mimetype": "text/x-python",
            "codemirror_mode": {
                "name": "ipython",
                "version": 3
            },
            "pygments_lexer": "ipython3",
            "nbconvert_exporter": "python",
            "file_extension": ".py"
        }
    },
    "nbformat": 4,
    "nbformat_minor": 1
}